{
 "cells": [
  {
   "cell_type": "code",
   "execution_count": null,
   "id": "2bc4bb66",
   "metadata": {},
   "outputs": [],
   "source": [
    "Q1. What is the purpose of Python's OOP?\n",
    "\n",
    "In Python, object-oriented Programming (OOPs) is a programming paradigm that uses objects and classes in programming. It aims to implement real-world entities like inheritance, polymorphisms, encapsulation, etc. \n",
    "in the programming.\n",
    "\n",
    "-Class\n",
    "-Objects\n",
    "-Polymorphism\n",
    "-Encapsulation\n",
    "-Inheritance\n",
    "-Data Abstraction"
   ]
  },
  {
   "cell_type": "code",
   "execution_count": null,
   "id": "c32efef5",
   "metadata": {},
   "outputs": [],
   "source": [
    "Q2. Where does an inheritance search look for an attribute?\n",
    "\n",
    "Ans:\n",
    "    Inheritance is a powerful feature in object oriented programming. The main purpose of inheritance is the reusability of code because we can use the existing class to create a new class instead of creating it from scratch.\n",
    "\n",
    "It refers to defining a new class with little or no modification to an existing class. The new class is called derived (or child) class and the one from which it inherits is called the base (or parent) class.\n",
    "\n",
    "In inheritance, the derived class acquires and access all the data members, properties, and functions from the base class. Also, a derived class can also provide its specific implementation to the methods of the base class.\n",
    "\n",
    "\n",
    "Syntax:\n",
    "\n",
    "class BaseClass:\n",
    "    Body of base class\n",
    "class DerivedClass(BaseClass):\n",
    "    Body of derived class\n",
    "    "
   ]
  },
  {
   "cell_type": "code",
   "execution_count": null,
   "id": "12dc34a4",
   "metadata": {},
   "outputs": [],
   "source": [
    "Q3. How do you distinguish between a class object and an instance object?\n",
    "\n",
    "class object\n",
    "\n",
    "when we create a class in python then a class object is created so whenever python finds a class statement in the \n",
    "whole program then it creates a class object and assigns a name to that object i.e. class name.\n",
    "\n",
    "class MyClass:\n",
    "    pass\n",
    "-----------------------------------------------------------------------------------------------------------------------\n",
    "Instance object\n",
    "\n",
    "when we call a class, it creates an instance object of that class from which the object has been created. \n",
    "For example when we call the above-created class then it will create an instance object like this.\n",
    "\n",
    "\n",
    "Obj1=MyClass()"
   ]
  },
  {
   "cell_type": "code",
   "execution_count": null,
   "id": "72024f9c",
   "metadata": {},
   "outputs": [],
   "source": [
    "Q4. What makes the first argument in a class’s method function special?\n",
    "\n",
    "A class variable is a variable that is declared inside of class, but outside of any instance method or __init__() method."
   ]
  },
  {
   "cell_type": "code",
   "execution_count": null,
   "id": "33bc442f",
   "metadata": {},
   "outputs": [],
   "source": [
    "#Q5. What is the purpose of the __init__ method?\n",
    "\n",
    "#The __init__ method lets the class initialize the objects attributes and serves no other purpose. \n",
    "#It is only used within classes\n",
    "\n",
    "#Fiilename: Class_init.py\n",
    "\n",
    "class Person:\n",
    "    def __init__(self, name):\n",
    "        self.name = name\n",
    "    def db(self):\n",
    "        print ('Hello, my name is', self.name)\n",
    "        \n",
    "p = Person('Ankit')\n",
    "p.db()\n",
    "        "
   ]
  },
  {
   "cell_type": "code",
   "execution_count": null,
   "id": "1559aad4",
   "metadata": {},
   "outputs": [],
   "source": [
    "#Q6. What is the process for creating a class instance?\n",
    "\n",
    "#To create instances of a class, you call the class using class name and pass in whatever arguments its __init__ method accepts.\n",
    "\n",
    "class Employee:\n",
    "    '''Common base class for all employees'''\n",
    "    empCount = 0\n",
    "    def __init__(self, name, salary):\n",
    "        self.name = name\n",
    "        self.salary = salary\n",
    "        Employee.empCount += 1\n",
    "    def displayCount(self):\n",
    "        print (\"Total Employee %d\" % Employee.empCount)\n",
    "    def displayEmployee(self):\n",
    "        print (\"Name : \", self.name, \", Salary: \", self.salary)\n",
    "# \"This would create first object of Employee class\"\n",
    "emp1 = Employee(\"Zara\", 2000)\n",
    "# \"This would create second object of Employee class\"\n",
    "emp2 = Employee(\"Manni\", 5000)\n",
    "emp1.displayEmployee()\n",
    "emp2.displayEmployee()\n",
    "print (\"Total Employee is:\",Employee.empCount)"
   ]
  },
  {
   "cell_type": "code",
   "execution_count": null,
   "id": "e6d0a2da",
   "metadata": {},
   "outputs": [],
   "source": [
    "Q7. What is the process for creating a class?\n",
    "\n",
    "class MyClass:\n",
    "    x = 5\n",
    "    print(MyClass)"
   ]
  },
  {
   "cell_type": "code",
   "execution_count": null,
   "id": "33d76619",
   "metadata": {},
   "outputs": [],
   "source": [
    "Q8. How would you define the superclasses of a class?\n",
    "\n",
    "\n",
    "A superclass is the class from which many subclasses can be created. The subclasses inherit the characteristics of a superclass. \n",
    "The superclass is also known as the parent class or base class. In the above example, \n",
    "Vehicle is the Superclass and its subclasses are Car, Truck and Motorcycle."
   ]
  },
  {
   "cell_type": "code",
   "execution_count": null,
   "id": "72e5a4d6",
   "metadata": {},
   "outputs": [],
   "source": []
  }
 ],
 "metadata": {
  "kernelspec": {
   "display_name": "Python 3 (ipykernel)",
   "language": "python",
   "name": "python3"
  },
  "language_info": {
   "codemirror_mode": {
    "name": "ipython",
    "version": 3
   },
   "file_extension": ".py",
   "mimetype": "text/x-python",
   "name": "python",
   "nbconvert_exporter": "python",
   "pygments_lexer": "ipython3",
   "version": "3.9.7"
  }
 },
 "nbformat": 4,
 "nbformat_minor": 5
}
