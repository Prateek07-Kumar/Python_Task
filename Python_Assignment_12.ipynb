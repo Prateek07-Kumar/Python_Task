{
 "cells": [
  {
   "cell_type": "markdown",
   "id": "8c76d59b",
   "metadata": {},
   "source": [
    "### Q1. Does assigning a value to a string's indexed character violate Python's string immutability ?\n",
    "\n",
    "### Ans:\n",
    "\n",
    "String’s indexed character cannot to be assigned a New value as Strings are immutable."
   ]
  },
  {
   "cell_type": "markdown",
   "id": "e0601728",
   "metadata": {},
   "source": [
    "#### Q2. Does using the += operator to concatenate strings violate Python's string immutability? Why or why not ?\n",
    "\n",
    "### Ans:\n",
    "\n",
    "+= operator is used to concatenate strings. It does not violate Python’s string immutability Property because doing so creates a new association with data and variable. E.g. str_1=\"a\" and str_1+=\"b. Effect of this statement is to create string ab and reassign it to variable str_1. Any string data is not actually modified."
   ]
  },
  {
   "cell_type": "code",
   "execution_count": 1,
   "id": "6b698345",
   "metadata": {},
   "outputs": [
    {
     "name": "stdout",
     "output_type": "stream",
     "text": [
      "2918076030576\n",
      "2918154809008\n"
     ]
    }
   ],
   "source": [
    "str_1 = 'a'\n",
    "print(id(str_1))\n",
    "str_1 += 'b'\n",
    "print(id(str_1)) # Does not Modify existing string, Creates a New String Object"
   ]
  },
  {
   "cell_type": "markdown",
   "id": "835351e9",
   "metadata": {},
   "source": [
    "### Q3. In Python, how many different ways are there to index a character?\n",
    "\n",
    "#### Ans:\n",
    "\n",
    "A Character in string can be indexed using string name followed by index number of character in square bracket. Positive Indexing i.e. first index is 0 an so on, or Negative Indexing i.e. last letter is -1 and so on can be used to index a character"
   ]
  },
  {
   "cell_type": "code",
   "execution_count": 7,
   "id": "15e14bca",
   "metadata": {},
   "outputs": [
    {
     "name": "stdout",
     "output_type": "stream",
     "text": [
      "u l e\n",
      "e i c\n"
     ]
    }
   ],
   "source": [
    "in_string = \"iNeuron Full Stack Data Science\"\n",
    "print(in_string[9],in_string[10],in_string[2]) # Positive Indexing\n",
    "print(in_string[-1],in_string[-5],in_string[-2]) # Negative Indexing\n"
   ]
  },
  {
   "cell_type": "markdown",
   "id": "0b43cc5c",
   "metadata": {},
   "source": [
    "### Q4. What is the relationship between indexing and slicing?\n",
    "\n",
    "#### Ans:\n",
    "\n",
    "We can access elements of sequence datatypes by using slicing and indexing. Indexing is used to obtaining individual element while slicing for sequence of elements."
   ]
  },
  {
   "cell_type": "code",
   "execution_count": 8,
   "id": "6b553fa1",
   "metadata": {},
   "outputs": [
    {
     "name": "stdout",
     "output_type": "stream",
     "text": [
      "N u o\n",
      "Neuron Full St\n"
     ]
    }
   ],
   "source": [
    "\n",
    "in_string = \"iNeuron Full Stack Data Science\"\n",
    "print(in_string[1],in_string[3],in_string[5]) # Indexing\n",
    "print(in_string[1:15]) # Slicing"
   ]
  },
  {
   "cell_type": "markdown",
   "id": "36ca36fe",
   "metadata": {},
   "source": [
    "### Q5. What is an indexed character's exact data type? What is the data form of a slicing-generated substring?\n",
    "\n",
    "#### Ans:\n",
    "\n",
    "Indexed characters and sliced substrings have datatype String."
   ]
  },
  {
   "cell_type": "code",
   "execution_count": 9,
   "id": "723c5a82",
   "metadata": {},
   "outputs": [
    {
     "name": "stdout",
     "output_type": "stream",
     "text": [
      "<class 'str'>\n",
      "<class 'str'>\n"
     ]
    }
   ],
   "source": [
    "in_string = \"iNeuron Full Stack Data Science\"\n",
    "print(type(in_string[3])) # Indexing -> str\n",
    "print(type(in_string[1:10])) # Indexing -> str"
   ]
  },
  {
   "cell_type": "markdown",
   "id": "51fcf2d6",
   "metadata": {},
   "source": [
    "### Q6. What is the relationship between string and character \"types\" in Python?\n",
    "\n",
    "### Ans:\n",
    "\n",
    "Object that contains sequence of character datatypes are called String."
   ]
  },
  {
   "cell_type": "markdown",
   "id": "10944861",
   "metadata": {},
   "source": [
    "### Q7. Identify at least two operators & one method that allow you to combine one or more smaller strings to create a larger string ?\n",
    "\n",
    "### Ans:\n",
    "\n",
    "+, += and * allow to combine one or more smaller strings to create a larger string. .join() method joins element of iterable type like list and tuple to get a combined string."
   ]
  },
  {
   "cell_type": "code",
   "execution_count": 10,
   "id": "34247a4c",
   "metadata": {},
   "outputs": [
    {
     "name": "stdout",
     "output_type": "stream",
     "text": [
      "iNeuron Full Stack Data Science FSDS\n",
      "FSDS FSDS FSDS \n",
      "I N E U R O N\n",
      "i n e u r o n\n"
     ]
    }
   ],
   "source": [
    "in_string = 'iNeuron '\n",
    "in_string += 'Full Stack Data Science'\n",
    "print(in_string + ' FSDS')\n",
    "print('FSDS '*3)\n",
    "print(\" \".join(['I','N','E','U','R','O','N'])) # List Iterable\n",
    "print(\" \".join(('I','N','E','U','R','O','N')).lower()) # Tuple Iterable"
   ]
  },
  {
   "cell_type": "markdown",
   "id": "0c1bbbc1",
   "metadata": {},
   "source": [
    "### Q8. What is the benefit of first checking the target string with in or not in before using the index method to find a substring ?\n",
    "\n",
    "### Ans:\n",
    "\n",
    "Checking the target string with in or not Operators before using the index method to find a substring just helps confirming availability of substring and thus avoid raising of ValueError."
   ]
  },
  {
   "cell_type": "markdown",
   "id": "6bed3afa",
   "metadata": {},
   "source": [
    "### Q9. Which operators and built-in string methods produce simple Boolean (true/false) results?\n",
    "\n",
    "#### Ans:\n",
    "\n",
    "The String Operators and built-in methods to Produce Simple Boolean (True/False) Results are:\n",
    "\n",
    "in\n",
    "\n",
    "not\n",
    "\n",
    ".isalpha()\n",
    "\n",
    ".isalnum()\n",
    "\n",
    ".isdecimal()\n",
    "\n",
    ".isdigit()\n",
    "\n",
    ".islower()\n",
    "\n",
    ".isnumeric()\n",
    "\n",
    ".isprintable()\n",
    "\n",
    ".isspace()\n",
    "\n",
    ".istitle()"
   ]
  },
  {
   "cell_type": "code",
   "execution_count": null,
   "id": "da16cc25",
   "metadata": {},
   "outputs": [],
   "source": []
  }
 ],
 "metadata": {
  "kernelspec": {
   "display_name": "Python 3 (ipykernel)",
   "language": "python",
   "name": "python3"
  },
  "language_info": {
   "codemirror_mode": {
    "name": "ipython",
    "version": 3
   },
   "file_extension": ".py",
   "mimetype": "text/x-python",
   "name": "python",
   "nbconvert_exporter": "python",
   "pygments_lexer": "ipython3",
   "version": "3.10.9"
  }
 },
 "nbformat": 4,
 "nbformat_minor": 5
}
