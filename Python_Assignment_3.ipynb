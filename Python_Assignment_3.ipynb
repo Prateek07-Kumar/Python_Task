{
 "cells": [
  {
   "cell_type": "code",
   "execution_count": 27,
   "id": "88f5e17d",
   "metadata": {},
   "outputs": [
    {
     "name": "stdout",
     "output_type": "stream",
     "text": [
      "i have 1 blue car\n",
      "i have 2 red car\n",
      "i have 3 black car\n"
     ]
    }
   ],
   "source": [
    "#1. What is the concept of an abstract superclass?\n",
    "\n",
    "#An abstract class is a class, but not one you can create objects from directly. Its purpose is to define how other classes \n",
    "#should look like, i.e. what methods and properties they are expected to have.\n",
    "\n",
    "from abc import ABC, abstractmethod\n",
    "\n",
    "class car(ABC):\n",
    "    def colour(self):\n",
    "        pass\n",
    "    \n",
    "class Red(car):\n",
    "        \n",
    "        #overriding abstract method\n",
    "    def colour(self):\n",
    "        print('i have 2 red car')\n",
    "            \n",
    "class Black(car):\n",
    "    \n",
    "    #overriding abstract method\n",
    "    def colour(self):\n",
    "        print('i have 3 black car')\n",
    "            \n",
    "    \n",
    "class Blue(car):\n",
    "        \n",
    "     #overriding abstract method   \n",
    "    def colour(self):\n",
    "        print('i have 1 blue car')\n",
    "        \n",
    "r = Blue()\n",
    "r.colour()\n",
    "\n",
    "r = Red()\n",
    "r.colour()\n",
    "\n",
    "r = Black()\n",
    "r.colour()\n",
    "        \n",
    "        "
   ]
  },
  {
   "cell_type": "code",
   "execution_count": null,
   "id": "e587c876",
   "metadata": {},
   "outputs": [],
   "source": [
    "2. What happens when a class statements top level contains a basic assignment statement?\n",
    "\n",
    "__main__ is the name of the environment where top-level code is run. “Top-level code” is the first user-specified Python \n",
    "module that starts running. It’s “top-level” because it imports all other modules that the program needs. Sometimes \n",
    "“top-level code” is called an entry point to the application.\n",
    "\n",
    "The top-level code environment can be:\n",
    "    \n",
    "    __name__\n",
    "    \n",
    "'__main__'\n"
   ]
  },
  {
   "cell_type": "code",
   "execution_count": 28,
   "id": "7a864875",
   "metadata": {},
   "outputs": [
    {
     "name": "stdout",
     "output_type": "stream",
     "text": [
      "Creating Derived1...\n",
      "derived1 init\n",
      "Creating Derived2...\n",
      "base init\n",
      "derived2 init\n"
     ]
    }
   ],
   "source": [
    "#3. Why does a class need to manually call a superclass __init__ method?\n",
    "\n",
    "#The main reason for always calling base class _init__ is that base class may typically create member variable and initialize them to defaults. \n",
    "#So if you do not call base class init, none of that code would be executed and you would end up with base class that has no member variables.\n",
    "\n",
    "\n",
    "class Base:\n",
    "    def __init__(self):\n",
    "        print('base init')\n",
    "\n",
    "class Derived1(Base):\n",
    "    def __init__(self):\n",
    "        print('derived1 init')\n",
    "\n",
    "class Derived2(Base):\n",
    "    def __init__(self):\n",
    "        super(Derived2, self).__init__()\n",
    "        print('derived2 init')\n",
    "\n",
    "print('Creating Derived1...')\n",
    "d1 = Derived1()\n",
    "print('Creating Derived2...')\n",
    "d2 = Derived2()"
   ]
  },
  {
   "cell_type": "code",
   "execution_count": null,
   "id": "5a6be3ef",
   "metadata": {},
   "outputs": [],
   "source": [
    "4. How can you augment, instead of completely replacing, an inherited method?\n",
    "\n",
    "Each method that is inherited from a superclass can be augmented to perform some different action in the new class. \n",
    "If there is no augmentation then the inherited methods will perform as defined in the superclass.\n",
    "\n",
    "An inherited method is augmented simply by creating a new definition for the method in your class definition. \n",
    "The following example demonstrates augmenting an inherited method:\n",
    "    \n",
    "Class cMessageButton1 is a Button\n",
    "\n",
    "    Procedure DoShowSomething\n",
    "\n",
    "        Send Info_Box \"First Message\"\n",
    "\n",
    "    End_Procedure\n",
    "\n",
    " \n",
    "\n",
    "    Procedure OnClick\n",
    "\n",
    "        Send DoShowSomething\n",
    "\n",
    "    End_Procedure\n",
    "\n",
    "End_Class\n",
    "\n",
    " \n",
    "\n",
    "Class cMessageButton2  is a cMessageButton1\n",
    "\n",
    "    Procedure DoShowSomething\n",
    "\n",
    "        Send Info_Box \"Second Message\"\n",
    "\n",
    "    End_Procedure\n",
    "\n",
    "End_Class"
   ]
  },
  {
   "cell_type": "code",
   "execution_count": 5,
   "id": "410f6be7",
   "metadata": {},
   "outputs": [
    {
     "name": "stdout",
     "output_type": "stream",
     "text": [
      "15\n"
     ]
    }
   ],
   "source": [
    "#5. How is the local scope of a class different from that of a function?\n",
    "\n",
    "#Local variables in python are those variables that are declared inside the function. Alternatively, they are said to defined\n",
    "#within a local scope. A user can only access a local variable inside the function but never outside it.\n",
    "\n",
    "#Let us take the help of a simple example to understand this.\n",
    "\n",
    "                    \n",
    "def sum(x,y):\n",
    "\n",
    "    sum = x + y\n",
    "\n",
    "    return sum\n",
    "\n",
    "print(sum(5, 10))"
   ]
  },
  {
   "cell_type": "code",
   "execution_count": null,
   "id": "8bf6932d",
   "metadata": {},
   "outputs": [],
   "source": []
  }
 ],
 "metadata": {
  "kernelspec": {
   "display_name": "Python 3 (ipykernel)",
   "language": "python",
   "name": "python3"
  },
  "language_info": {
   "codemirror_mode": {
    "name": "ipython",
    "version": 3
   },
   "file_extension": ".py",
   "mimetype": "text/x-python",
   "name": "python",
   "nbconvert_exporter": "python",
   "pygments_lexer": "ipython3",
   "version": "3.9.7"
  }
 },
 "nbformat": 4,
 "nbformat_minor": 5
}
