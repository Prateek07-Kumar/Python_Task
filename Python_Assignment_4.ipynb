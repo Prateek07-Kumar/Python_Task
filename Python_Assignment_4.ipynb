{
 "cells": [
  {
   "cell_type": "code",
   "execution_count": 1,
   "id": "0ce604b1",
   "metadata": {},
   "outputs": [
    {
     "name": "stdout",
     "output_type": "stream",
     "text": [
      "5\n",
      "6\n",
      "7\n",
      "8\n",
      "9\n",
      "10\n",
      "11\n",
      "12\n",
      "13\n",
      "14\n",
      "15\n"
     ]
    }
   ],
   "source": [
    "#Q1. Which two operator overloading methods can you use in your classes to support iteration?\n",
    "\n",
    "#The __iter__ returns the iterator object and is implicitly called at the start of loops. The __next__ method returns the next value and is implicitly called at each loop increment. \n",
    "#__next__ raises a StopIteration exception when there are nomore value to return, which is implicitly captured by looping constructs to stop iterating.\n",
    "\n",
    "class Counter:\n",
    "    def __init__(self, low, high):\n",
    "        self.current = low\n",
    "        self.high = high\n",
    " \n",
    "    def __iter__(self):\n",
    "        return self\n",
    " \n",
    "    def __next__(self):\n",
    "        if self.current > self.high:\n",
    "            raise StopIteration\n",
    "        else:\n",
    "            self.current += 1\n",
    "            return self.current - 1\n",
    " \n",
    " \n",
    "for num in Counter(5, 15):\n",
    "    print(num)\n"
   ]
  },
  {
   "cell_type": "code",
   "execution_count": 6,
   "id": "4641b5b2",
   "metadata": {},
   "outputs": [
    {
     "name": "stdout",
     "output_type": "stream",
     "text": [
      "(3,5)\n"
     ]
    }
   ],
   "source": [
    "#Q2. In what contexts do the two operator overloading methods manage printing?\n",
    "\n",
    "To overload the + operator, we will need to implement __add__() function in the class. With great power comes great responsibility. \n",
    "We can do whatever we like, inside this function. But it is more sensible to return a Point object of the coordinate sum.\n",
    "\n",
    "class Point:\n",
    "    def __init__(self, x=0, y=0):\n",
    "        self.x = x\n",
    "        self.y = y\n",
    "\n",
    "    def __str__(self):\n",
    "        return \"({0},{1})\".format(self.x, self.y)\n",
    "\n",
    "    def __add__(self, other):\n",
    "        x = self.x + other.x\n",
    "        y = self.y + other.y\n",
    "        return Point(x, y)\n",
    "\n",
    "\n",
    "p1 = Point(1, 2)\n",
    "p2 = Point(2, 3)\n",
    "\n",
    "print(p1+p2)"
   ]
  },
  {
   "cell_type": "code",
   "execution_count": null,
   "id": "d4f2bd87",
   "metadata": {},
   "outputs": [],
   "source": [
    "Q3. In a class, how do you intercept slice operations?"
   ]
  }
 ],
 "metadata": {
  "kernelspec": {
   "display_name": "Python 3 (ipykernel)",
   "language": "python",
   "name": "python3"
  },
  "language_info": {
   "codemirror_mode": {
    "name": "ipython",
    "version": 3
   },
   "file_extension": ".py",
   "mimetype": "text/x-python",
   "name": "python",
   "nbconvert_exporter": "python",
   "pygments_lexer": "ipython3",
   "version": "3.9.7"
  }
 },
 "nbformat": 4,
 "nbformat_minor": 5
}
