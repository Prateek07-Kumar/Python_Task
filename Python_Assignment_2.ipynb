{
 "cells": [
  {
   "cell_type": "code",
   "execution_count": null,
   "id": "a9169ec9",
   "metadata": {},
   "outputs": [],
   "source": [
    "Q1 - What is the relationship between classes and modules?\n",
    "\n",
    "Classes are blueprints that allow you to create instances with attributes and bound functionality. \n",
    "Classes support inheritance, metaclasses, and descriptors.\n",
    "\n",
    "-----------------------------------------------------------------------------------------------------------------------------\n",
    "Modules can not do any of this modules are essentially singleton instances of an internal module class,and all their globals \n",
    "are attributes on the module instance. You can manipulate those attributes as needed (add, remove and update),but take into\n",
    "account that these still form the global namespace for all code defined in that module."
   ]
  },
  {
   "cell_type": "code",
   "execution_count": null,
   "id": "f3c541d4",
   "metadata": {},
   "outputs": [],
   "source": [
    "Q2. How do you make instances and classes?\n",
    "\n",
    "classes\n",
    "\n",
    "class MyClass:\n",
    "  x = 5\n",
    "-----------------------------------------------------------------------------------------------\n",
    "Instances\n",
    "def __init__(self, name):\n",
    "    self.name = name \n",
    "    "
   ]
  },
  {
   "cell_type": "code",
   "execution_count": null,
   "id": "917fe097",
   "metadata": {},
   "outputs": [],
   "source": [
    "Q3. Where and how should be class attributes created?\n",
    "\n",
    "\n",
    "Class attributes are the variables defined directly in the class that are shared by all objects of the class. Instance attributes are \n",
    "attributes or properties attached to an instance of a class. Instance attributes are defined in the constructor.Defined directly inside a class.\n",
    "\n",
    "classname.class_attribute"
   ]
  },
  {
   "cell_type": "code",
   "execution_count": null,
   "id": "8a85488f",
   "metadata": {},
   "outputs": [],
   "source": [
    "Q4. Where and how are instance attributes created?\n",
    "\n",
    "Instance attributes are defined in the __init__() function.\n"
   ]
  },
  {
   "cell_type": "code",
   "execution_count": null,
   "id": "f193be21",
   "metadata": {},
   "outputs": [],
   "source": [
    "Q5. What does the term \"self\" in a Python class mean?\n",
    "\n",
    "self represents the instance of the class. By using the “self” we can access the attributes and methods of the class in python. \n",
    "It binds the attributes with the given arguments.\n",
    "\n",
    "class check: \n",
    "    def __init__(self): \n",
    "        print(\"Address of self = \",id(self)) "
   ]
  },
  {
   "cell_type": "code",
   "execution_count": null,
   "id": "04f5016e",
   "metadata": {},
   "outputs": [],
   "source": [
    "Q6. How does a Python class handle operator overloading?\n",
    "\n",
    "The operator overloading in Python means provide extended meaning beyond their predefined operational meaning. Such as, we use the \"+\" operator for adding two integers as well as joining two strings or merging two lists. \n",
    "We can achieve this as the \"+\" operator is overloaded by the \"int\" class and \"str\" class."
   ]
  },
  {
   "cell_type": "code",
   "execution_count": null,
   "id": "c5d3ed1f",
   "metadata": {},
   "outputs": [],
   "source": [
    "Q7. When do you consider allowing operator overloading of your classes?\n",
    "\n",
    "You’ve probably wondered why the same built-in operator or function behaves differently for objects of different classes. \n",
    "This is known as Python operator overloading or Python function overloading. For example, the operator ‘+‘ can be used to \n",
    "add two integers, join two strings, or merge two lists. It is possible since the ‘+’ operator is overloaded by the int and str classes.\n",
    "\n",
    "                 \n",
    "# Add 2 integer values\n",
    "a = 1 + 6\n",
    "print(a)\n",
    "\n",
    "# Concatenate 2 strings\n",
    "a = 'Python' + 'Program'\n",
    "print(a)\n",
    "\n",
    "# Concatenate 2 lists\n",
    "a = ['A', 'B'] + [1, 2, 3]\n",
    "print(a)"
   ]
  },
  {
   "cell_type": "code",
   "execution_count": null,
   "id": "50ef9959",
   "metadata": {},
   "outputs": [],
   "source": [
    "Q8. What is the most popular form of operator overloading?\n",
    "\n",
    "A very popular and convenient example is the Addition (+) operator.Just think how the ‘+’ operator operates on two numbers \n",
    "and the same operator operates on two strings. It performs “Addition” on numbers whereas it performs “Concatenation” on strings.\n",
    "\n",
    "class bubble:\n",
    "    def __init__(self, volume):\n",
    "        self.volume = volume"
   ]
  },
  {
   "cell_type": "code",
   "execution_count": null,
   "id": "5bb275c8",
   "metadata": {},
   "outputs": [],
   "source": [
    "Q9. What are the two most important concepts to grasp in order to comprehend Python OOP code?\n",
    "\n",
    "\n",
    "In object-oriented programming (OOP), you have the flexibility to represent real-world objects like car, animal, person, ATM etc. \n",
    "in your code. In simple words, an object is something that possess some characteristics and can perform certain functions. \n",
    "For example, car is an object and can perform functions like start, stop, drive and brake. These are the function of a car.\n",
    "And the characteristics are color of car, mileage, maximum speed, model year etc."
   ]
  },
  {
   "cell_type": "code",
   "execution_count": null,
   "id": "b5bd2649",
   "metadata": {},
   "outputs": [],
   "source": []
  },
  {
   "cell_type": "code",
   "execution_count": null,
   "id": "2b1d3d27",
   "metadata": {},
   "outputs": [],
   "source": []
  },
  {
   "cell_type": "code",
   "execution_count": null,
   "id": "3c5ff711",
   "metadata": {},
   "outputs": [],
   "source": []
  }
 ],
 "metadata": {
  "kernelspec": {
   "display_name": "Python 3 (ipykernel)",
   "language": "python",
   "name": "python3"
  },
  "language_info": {
   "codemirror_mode": {
    "name": "ipython",
    "version": 3
   },
   "file_extension": ".py",
   "mimetype": "text/x-python",
   "name": "python",
   "nbconvert_exporter": "python",
   "pygments_lexer": "ipython3",
   "version": "3.9.7"
  }
 },
 "nbformat": 4,
 "nbformat_minor": 5
}
